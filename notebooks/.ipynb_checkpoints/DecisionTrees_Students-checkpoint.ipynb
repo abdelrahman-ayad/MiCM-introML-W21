{
 "cells": [
  {
   "cell_type": "markdown",
   "metadata": {
    "id": "D_6vwRCzJFs_"
   },
   "source": [
    "# **Decision Tree example**\n"
   ]
  },
  {
   "cell_type": "markdown",
   "metadata": {
    "id": "T5Ri-PSUI-JF"
   },
   "source": [
    "### To run this code:\n",
    "\n",
    "1- Use Jupyter notebook: https://jupyter.org/\n",
    "\n",
    "\n",
    "2- Use Google Colab: https://colab.research.google.com/\n",
    "\n"
   ]
  },
  {
   "cell_type": "markdown",
   "metadata": {},
   "source": [
    "### Decision Trees illustrative example\n",
    "\n",
    "http://www.r2d3.us/visual-intro-to-machine-learning-part-1/"
   ]
  },
  {
   "cell_type": "code",
   "execution_count": null,
   "metadata": {},
   "outputs": [],
   "source": []
  }
 ],
 "metadata": {
  "colab": {
   "name": "DecisionTrees_Instructor.ipynb",
   "provenance": []
  },
  "kernelspec": {
   "display_name": "Python 3",
   "language": "python",
   "name": "python3"
  },
  "language_info": {
   "codemirror_mode": {
    "name": "ipython",
    "version": 3
   },
   "file_extension": ".py",
   "mimetype": "text/x-python",
   "name": "python",
   "nbconvert_exporter": "python",
   "pygments_lexer": "ipython3",
   "version": "3.7.7"
  }
 },
 "nbformat": 4,
 "nbformat_minor": 1
}
