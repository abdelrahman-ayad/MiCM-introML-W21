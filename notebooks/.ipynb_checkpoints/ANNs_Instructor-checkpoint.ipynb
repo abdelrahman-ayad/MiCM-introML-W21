{
 "cells": [
  {
   "cell_type": "code",
   "execution_count": null,
   "metadata": {},
   "outputs": [],
   "source": [
    "import pandas as pd\n",
    "from sklearn import preprocessing\n",
    "import numpy as np\n",
    "from sklearn.model_selection import train_test_split # Import train_test_split function\n",
    "from sklearn import metrics #Import scikit-learn metrics module for accuracy calculation\n",
    "from sklearn.tree import DecisionTreeClassifier, plot_tree\n",
    "import matplotlib.pyplot as plt\n",
    "np.random.seed(1234)"
   ]
  },
  {
   "cell_type": "code",
   "execution_count": null,
   "metadata": {},
   "outputs": [],
   "source": [
    "data_url = 'https://github.com/abdelrahman-ayad/MiCM-introML-W21/raw/main/notebooks/Data/insurance.csv'\n",
    "insurance_data = pd.read_csv(data_url)"
   ]
  },
  {
   "cell_type": "code",
   "execution_count": null,
   "metadata": {},
   "outputs": [],
   "source": [
    "insurance_data.columns"
   ]
  },
  {
   "cell_type": "code",
   "execution_count": null,
   "metadata": {},
   "outputs": [],
   "source": [
    "insurance_data.head(10)"
   ]
  },
  {
   "cell_type": "code",
   "execution_count": null,
   "metadata": {},
   "outputs": [],
   "source": [
    "x = insurance_data['Number of claims']\n",
    "y = insurance_data['Total payment']"
   ]
  },
  {
   "cell_type": "code",
   "execution_count": null,
   "metadata": {},
   "outputs": [],
   "source": [
    "#train-test split\n",
    "x_train, x_test, y_train, y_test = train_test_split(x, y, test_size=0.3, random_state=0) # 70% training and 30% test\n",
    "print(\"Training set size:\", x_train.shape, y_train.shape)\n",
    "print(\"Testing set size:\", x_test.shape, y_test.shape)"
   ]
  },
  {
   "cell_type": "code",
   "execution_count": null,
   "metadata": {},
   "outputs": [],
   "source": [
    "#Plot data\n",
    "plt.scatter(x, y, marker='o')\n",
    "plt.ylabel('Total payment')\n",
    "plt.xlabel('Number of claims')\n",
    "plt.show()"
   ]
  },
  {
   "cell_type": "code",
   "execution_count": null,
   "metadata": {},
   "outputs": [],
   "source": [
    "# MLP Regression model\n",
    "from sklearn.neural_network import MLPRegressor\n",
    "\n",
    "X_train = x_train.values\n",
    "X_test = x_test.values\n",
    "\n",
    "\n",
    "modelReg = MLPRegressor(hidden_layer_sizes = 50,\n",
    "                        activation = 'relu',\n",
    "                        solver = 'adam',\n",
    "                        learning_rate_init = 0.005,\n",
    "                        max_iter=1000,\n",
    "                        random_state=0, \n",
    "                        verbose = 'True')\n",
    "\n",
    "modelReg.fit(X_train.reshape((-1,1)), y_train)\n",
    "modelReg.predict(X_test.reshape((-1, 1)))\n",
    "\n",
    "modelReg.score(X_test.reshape((-1, 1)), y_test)"
   ]
  },
  {
   "cell_type": "code",
   "execution_count": null,
   "metadata": {},
   "outputs": [],
   "source": []
  }
 ],
 "metadata": {
  "kernelspec": {
   "display_name": "Python 3",
   "language": "python",
   "name": "python3"
  },
  "language_info": {
   "codemirror_mode": {
    "name": "ipython",
    "version": 3
   },
   "file_extension": ".py",
   "mimetype": "text/x-python",
   "name": "python",
   "nbconvert_exporter": "python",
   "pygments_lexer": "ipython3",
   "version": "3.7.7"
  }
 },
 "nbformat": 4,
 "nbformat_minor": 4
}
