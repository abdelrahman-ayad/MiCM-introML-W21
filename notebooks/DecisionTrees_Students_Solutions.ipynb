{
 "cells": [
  {
   "cell_type": "markdown",
   "metadata": {
    "id": "D_6vwRCzJFs_"
   },
   "source": [
    "# **Decision Tree example**\n"
   ]
  },
  {
   "cell_type": "markdown",
   "metadata": {
    "id": "T5Ri-PSUI-JF"
   },
   "source": [
    "### To run this code:\n",
    "\n",
    "1- Use Jupyter notebook: https://jupyter.org/\n",
    "\n",
    "\n",
    "2- Use Google Colab: https://colab.research.google.com/\n",
    "\n"
   ]
  },
  {
   "cell_type": "markdown",
   "metadata": {},
   "source": [
    "### Decision Trees illustrative example\n",
    "\n",
    "http://www.r2d3.us/visual-intro-to-machine-learning-part-1/"
   ]
  },
  {
   "cell_type": "markdown",
   "metadata": {},
   "source": [
    "# Diabetes Dataset\n",
    "This dataset is originally from the National Institute of Diabetes and Digestive and Kidney Diseases. The objective of the dataset is to diagnostically predict whether or not a patient has diabetes, based on certain diagnostic measurements included in the dataset. Several constraints were placed on the selection of these instances from a larger database. In particular, all patients here are females at least 21 years old of Pima Indian heritage.\n",
    "\n",
    "https://www.kaggle.com/uciml/pima-indians-diabetes-database\n",
    "\n",
    "To assess the correspondence (or lack thereof) between\n",
    "self-reported exposure and cotinine levels, the following variables\n",
    "were recorded:\n",
    "\n",
    "1. Pregnancies: Number of times pregnant\n",
    "2. Glucose: Plasma glucose concentration a 2 hours in an oral glucose tolerance test\n",
    "3. BloodPressure: Diastolic blood pressure (mm Hg)\n",
    "4. SkinThickness: Triceps skin fold thickness (mm)\n",
    "5. Body mass index (BMI) (weight in kg/(height in m)^2) \n",
    "6. Diabetes pedigree function\n",
    "7. Age\n",
    "8. Outcome (0, 1)\n",
    "\n",
    "Can we build a decision Tree model to accurately predict whether or not the patients in the dataset have diabetes or not?"
   ]
  },
  {
   "cell_type": "code",
   "execution_count": null,
   "metadata": {},
   "outputs": [],
   "source": [
    "# Import modules and libraries\n",
    "\n",
    "import pandas as pd\n",
    "from sklearn.tree import DecisionTreeClassifier # Import Decision Tree Classifier\n",
    "from sklearn.model_selection import train_test_split # Import train_test_split function\n",
    "from sklearn import metrics #Import scikit-learn metrics module for accuracy calculation\n",
    "import matplotlib.pyplot as plt\n",
    "import numpy as np"
   ]
  },
  {
   "cell_type": "code",
   "execution_count": null,
   "metadata": {},
   "outputs": [],
   "source": [
    "# Read dataset into a pandas dataframe\n",
    "data_url = 'https://github.com/abdelrahman-ayad/MiCM-introML-W21/raw/main/notebooks/Data/diabetes.csv'\n",
    "data = pd.read_csv(data_url)\n",
    "\n",
    "\n",
    "#Display the first five rows\n",
    "data.head(20)"
   ]
  },
  {
   "cell_type": "code",
   "execution_count": null,
   "metadata": {},
   "outputs": [],
   "source": [
    "#Plot data\n",
    "plt.rcParams['figure.figsize'] = [15, 10]\n",
    "hist = data.hist()"
   ]
  },
  {
   "cell_type": "markdown",
   "metadata": {},
   "source": [
    "### Task 1: Separate data into features and targets (i.e., x and y)"
   ]
  },
  {
   "cell_type": "code",
   "execution_count": null,
   "metadata": {},
   "outputs": [],
   "source": [
    "# Code here to separate the data into features and targets\n",
    "y = data['Outcome']\n",
    "x = data[data.columns.drop('Outcome')]"
   ]
  },
  {
   "cell_type": "markdown",
   "metadata": {},
   "source": [
    "### Task 2: Split the data into training and testing (70/30)"
   ]
  },
  {
   "cell_type": "code",
   "execution_count": null,
   "metadata": {},
   "outputs": [],
   "source": [
    "x_train, x_test, y_train, y_test = train_test_split(x, y, test_size=0.3, random_state=0) # 70% training and 30% test"
   ]
  },
  {
   "cell_type": "markdown",
   "metadata": {},
   "source": [
    "### Task 3: Build a DTs model\n",
    "\n",
    "### The criterion is entropy with max depth of 10, and minimum samples leaf of 5\n",
    "### Hint: https://scikit-learn.org/stable/modules/generated/sklearn.tree.DecisionTreeClassifier.html#sklearn.tree.DecisionTreeClassifier\n"
   ]
  },
  {
   "cell_type": "code",
   "execution_count": null,
   "metadata": {},
   "outputs": [],
   "source": [
    "# Create a DT model \n",
    "DTmodel = DecisionTreeClassifier(criterion = 'entropy', max_depth=10, min_samples_leaf=5)\n",
    "\n",
    "# We fit the model with train data\n",
    "DTmodel.fit(x_train, y_train)\n",
    "\n",
    "# Make the predictions for test part\n",
    "y_pred = DTmodel.predict(x_test)\n",
    "\n",
    "# Compare prediction with actual y_test to get accuracy\n",
    "correct = y_test == y_pred\n",
    "incorrect = np.logical_not(correct)\n",
    "accuracy = np.sum(y_pred == y_test)/y_test.shape[0]\n",
    "print(f'accuracy is {accuracy*100:.1f}.')"
   ]
  },
  {
   "cell_type": "markdown",
   "metadata": {},
   "source": [
    "### Task 4: Determine confusion matrix"
   ]
  },
  {
   "cell_type": "code",
   "execution_count": null,
   "metadata": {},
   "outputs": [],
   "source": [
    "from sklearn.metrics import confusion_matrix\n",
    "from sklearn.metrics import ConfusionMatrixDisplay\n",
    "plt.rcParams['figure.figsize'] = [8, 8]\n",
    "cm = confusion_matrix(y_test, y_pred)\n",
    "cm_display = ConfusionMatrixDisplay(cm, display_labels = ['Not diabetes', 'Diabetes']).plot()"
   ]
  },
  {
   "cell_type": "code",
   "execution_count": null,
   "metadata": {},
   "outputs": [],
   "source": []
  }
 ],
 "metadata": {
  "colab": {
   "name": "DecisionTrees_Instructor.ipynb",
   "provenance": []
  },
  "kernelspec": {
   "display_name": "Python 3",
   "language": "python",
   "name": "python3"
  },
  "language_info": {
   "codemirror_mode": {
    "name": "ipython",
    "version": 3
   },
   "file_extension": ".py",
   "mimetype": "text/x-python",
   "name": "python",
   "nbconvert_exporter": "python",
   "pygments_lexer": "ipython3",
   "version": "3.7.7"
  }
 },
 "nbformat": 4,
 "nbformat_minor": 1
}
