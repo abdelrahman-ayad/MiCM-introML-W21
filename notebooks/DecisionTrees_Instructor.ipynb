{
  "nbformat": 4,
  "nbformat_minor": 0,
  "metadata": {
    "colab": {
      "name": "DecisionTrees_Instructor.ipynb",
      "provenance": []
    },
    "kernelspec": {
      "name": "python3",
      "display_name": "Python 3"
    }
  },
  "cells": [
    {
      "cell_type": "markdown",
      "metadata": {
        "id": "D_6vwRCzJFs_"
      },
      "source": [
        "# **Decision Tree example**\n"
      ]
    },
    {
      "cell_type": "code",
      "metadata": {
        "id": "T5Ri-PSUI-JF"
      },
      "source": [
        ""
      ],
      "execution_count": null,
      "outputs": []
    }
  ]
}