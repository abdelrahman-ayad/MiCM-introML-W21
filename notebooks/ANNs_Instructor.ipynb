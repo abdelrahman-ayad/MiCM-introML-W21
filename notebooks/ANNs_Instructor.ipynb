{
 "cells": [
  {
   "cell_type": "code",
   "execution_count": 1,
   "metadata": {},
   "outputs": [],
   "source": [
    "import pandas as pd\n",
    "from sklearn import preprocessing\n",
    "import numpy as np\n",
    "from sklearn.model_selection import train_test_split # Import train_test_split function\n",
    "from sklearn import metrics #Import scikit-learn metrics module for accuracy calculation\n",
    "from sklearn.tree import DecisionTreeClassifier, plot_tree\n",
    "import matplotlib.pyplot as plt\n",
    "np.random.seed(1234)"
   ]
  },
  {
   "cell_type": "code",
   "execution_count": 2,
   "metadata": {},
   "outputs": [],
   "source": [
    "data_url = 'https://github.com/abdelrahman-ayad/MiCM-introML-W21/raw/main/notebooks/Data/insurance.csv'\n",
    "insurance_data = pd.read_csv(data_url)"
   ]
  },
  {
   "cell_type": "code",
   "execution_count": 3,
   "metadata": {},
   "outputs": [
    {
     "data": {
      "text/plain": [
       "Index(['Number of claims', 'Total payment'], dtype='object')"
      ]
     },
     "execution_count": 3,
     "metadata": {},
     "output_type": "execute_result"
    }
   ],
   "source": [
    "insurance_data.columns"
   ]
  },
  {
   "cell_type": "code",
   "execution_count": 4,
   "metadata": {},
   "outputs": [
    {
     "data": {
      "text/html": [
       "<div>\n",
       "<style scoped>\n",
       "    .dataframe tbody tr th:only-of-type {\n",
       "        vertical-align: middle;\n",
       "    }\n",
       "\n",
       "    .dataframe tbody tr th {\n",
       "        vertical-align: top;\n",
       "    }\n",
       "\n",
       "    .dataframe thead th {\n",
       "        text-align: right;\n",
       "    }\n",
       "</style>\n",
       "<table border=\"1\" class=\"dataframe\">\n",
       "  <thead>\n",
       "    <tr style=\"text-align: right;\">\n",
       "      <th></th>\n",
       "      <th>Number of claims</th>\n",
       "      <th>Total payment</th>\n",
       "    </tr>\n",
       "  </thead>\n",
       "  <tbody>\n",
       "    <tr>\n",
       "      <th>0</th>\n",
       "      <td>108</td>\n",
       "      <td>392.5</td>\n",
       "    </tr>\n",
       "    <tr>\n",
       "      <th>1</th>\n",
       "      <td>19</td>\n",
       "      <td>46.2</td>\n",
       "    </tr>\n",
       "    <tr>\n",
       "      <th>2</th>\n",
       "      <td>13</td>\n",
       "      <td>15.7</td>\n",
       "    </tr>\n",
       "    <tr>\n",
       "      <th>3</th>\n",
       "      <td>124</td>\n",
       "      <td>422.2</td>\n",
       "    </tr>\n",
       "    <tr>\n",
       "      <th>4</th>\n",
       "      <td>40</td>\n",
       "      <td>119.4</td>\n",
       "    </tr>\n",
       "    <tr>\n",
       "      <th>5</th>\n",
       "      <td>57</td>\n",
       "      <td>170.9</td>\n",
       "    </tr>\n",
       "    <tr>\n",
       "      <th>6</th>\n",
       "      <td>23</td>\n",
       "      <td>56.9</td>\n",
       "    </tr>\n",
       "    <tr>\n",
       "      <th>7</th>\n",
       "      <td>14</td>\n",
       "      <td>77.5</td>\n",
       "    </tr>\n",
       "    <tr>\n",
       "      <th>8</th>\n",
       "      <td>45</td>\n",
       "      <td>214.0</td>\n",
       "    </tr>\n",
       "    <tr>\n",
       "      <th>9</th>\n",
       "      <td>10</td>\n",
       "      <td>65.3</td>\n",
       "    </tr>\n",
       "  </tbody>\n",
       "</table>\n",
       "</div>"
      ],
      "text/plain": [
       "   Number of claims  Total payment\n",
       "0               108          392.5\n",
       "1                19           46.2\n",
       "2                13           15.7\n",
       "3               124          422.2\n",
       "4                40          119.4\n",
       "5                57          170.9\n",
       "6                23           56.9\n",
       "7                14           77.5\n",
       "8                45          214.0\n",
       "9                10           65.3"
      ]
     },
     "execution_count": 4,
     "metadata": {},
     "output_type": "execute_result"
    }
   ],
   "source": [
    "insurance_data.head(10)"
   ]
  },
  {
   "cell_type": "code",
   "execution_count": 5,
   "metadata": {},
   "outputs": [],
   "source": [
    "x = insurance_data['Number of claims']\n",
    "y = insurance_data['Total payment']"
   ]
  },
  {
   "cell_type": "code",
   "execution_count": 6,
   "metadata": {},
   "outputs": [
    {
     "name": "stdout",
     "output_type": "stream",
     "text": [
      "Training set size: (44,) (44,)\n",
      "Testing set size: (19,) (19,)\n"
     ]
    }
   ],
   "source": [
    "#train-test split\n",
    "x_train, x_test, y_train, y_test = train_test_split(x, y, test_size=0.3, random_state=0) # 70% training and 30% test\n",
    "print(\"Training set size:\", x_train.shape, y_train.shape)\n",
    "print(\"Testing set size:\", x_test.shape, y_test.shape)"
   ]
  },
  {
   "cell_type": "code",
   "execution_count": 8,
   "metadata": {},
   "outputs": [
    {
     "data": {
      "image/png": "[encoded data removed]",
      "text/plain": [
       "<Figure size 432x288 with 1 Axes>"
      ]
     },
     "metadata": {
      "needs_background": "light"
     },
     "output_type": "display_data"
    }
   ],
   "source": [
    "#Plot data\n",
    "plt.scatter(x, y, marker='o')\n",
    "plt.ylabel('Total payment')\n",
    "plt.xlabel('Number of claims')\n",
    "plt.show()"
   ]
  },
  {
   "cell_type": "code",
   "execution_count": 58,
   "metadata": {},
   "outputs": [
    {
     "name": "stdout",
     "output_type": "stream",
     "text": [
      "Iteration 1, loss = 9421.27091446\n",
      "Iteration 2, loss = 9224.00921650\n",
      "Iteration 3, loss = 9025.92715116\n",
      "Iteration 4, loss = 8826.92491750\n",
      "Iteration 5, loss = 8626.61679688\n",
      "Iteration 6, loss = 8424.18883693\n",
      "Iteration 7, loss = 8218.77175443\n",
      "Iteration 8, loss = 8012.63263962\n",
      "Iteration 9, loss = 7805.78372420\n",
      "Iteration 10, loss = 7598.27253541\n",
      "Iteration 11, loss = 7390.18987046\n",
      "Iteration 12, loss = 7182.06380292\n",
      "Iteration 13, loss = 6972.91026835\n",
      "Iteration 14, loss = 6762.75212377\n",
      "Iteration 15, loss = 6551.63175469\n",
      "Iteration 16, loss = 6339.62220472\n",
      "Iteration 17, loss = 6126.82006901\n",
      "Iteration 18, loss = 5913.35284479\n",
      "Iteration 19, loss = 5699.38294012\n",
      "Iteration 20, loss = 5485.11007797\n",
      "Iteration 21, loss = 5270.77062109\n",
      "Iteration 22, loss = 5056.63633054\n",
      "Iteration 23, loss = 4843.01204711\n",
      "Iteration 24, loss = 4630.23319326\n",
      "Iteration 25, loss = 4418.67604713\n",
      "Iteration 26, loss = 4208.69176524\n",
      "Iteration 27, loss = 4000.73161120\n",
      "Iteration 28, loss = 3795.21687685\n",
      "Iteration 29, loss = 3592.62396788\n",
      "Iteration 30, loss = 3393.34839552\n",
      "Iteration 31, loss = 3197.95261991\n",
      "Iteration 32, loss = 3006.86771038\n",
      "Iteration 33, loss = 2820.61598779\n",
      "Iteration 34, loss = 2639.63419137\n",
      "Iteration 35, loss = 2464.24117682\n",
      "Iteration 36, loss = 2294.94468945\n",
      "Iteration 37, loss = 2131.79544070\n",
      "Iteration 38, loss = 1975.26167289\n",
      "Iteration 39, loss = 1826.07608687\n",
      "Iteration 40, loss = 1684.80018908\n",
      "Iteration 41, loss = 1551.81913767\n",
      "Iteration 42, loss = 1427.22796649\n",
      "Iteration 43, loss = 1311.24051466\n",
      "Iteration 44, loss = 1204.21360420\n",
      "Iteration 45, loss = 1106.41950656\n",
      "Iteration 46, loss = 1018.26018813\n",
      "Iteration 47, loss = 939.85682708\n",
      "Iteration 48, loss = 871.21946131\n",
      "Iteration 49, loss = 812.19298460\n",
      "Iteration 50, loss = 762.54685106\n",
      "Iteration 51, loss = 721.93355520\n",
      "Iteration 52, loss = 689.87618308\n",
      "Iteration 53, loss = 665.77546432\n",
      "Iteration 54, loss = 648.91914150\n",
      "Iteration 55, loss = 638.49019467\n",
      "Iteration 56, loss = 633.58303634\n",
      "Iteration 57, loss = 633.21807081\n",
      "Iteration 58, loss = 636.36575230\n",
      "Iteration 59, loss = 641.98954252\n",
      "Iteration 60, loss = 649.10507429\n",
      "Iteration 61, loss = 656.67928461\n",
      "Iteration 62, loss = 663.99413438\n",
      "Iteration 63, loss = 670.43787779\n",
      "Iteration 64, loss = 675.57327787\n",
      "Iteration 65, loss = 679.14763913\n",
      "Iteration 66, loss = 681.06598389\n",
      "Iteration 67, loss = 681.38394283\n",
      "Iteration 68, loss = 680.16835056\n",
      "Training loss did not improve more than tol=0.000100 for 10 consecutive epochs. Stopping.\n"
     ]
    },
    {
     "data": {
      "text/plain": [
       "0.6121806574812394"
      ]
     },
     "execution_count": 58,
     "metadata": {},
     "output_type": "execute_result"
    }
   ],
   "source": [
    "# MLP Regression model\n",
    "from sklearn.neural_network import MLPRegressor\n",
    "\n",
    "X_train = x_train.values\n",
    "X_test = x_test.values\n",
    "\n",
    "\n",
    "modelReg = MLPRegressor(hidden_layer_sizes = 50,\n",
    "                        activation = 'relu',\n",
    "                        solver = 'adam',\n",
    "                        learning_rate_init = 0.005,\n",
    "                        max_iter=1000,\n",
    "                        random_state=0, \n",
    "                        verbose = 'True')\n",
    "\n",
    "modelReg.fit(X_train.reshape((-1,1)), y_train)\n",
    "modelReg.predict(X_test.reshape((-1, 1)))\n",
    "\n",
    "modelReg.score(X_test.reshape((-1, 1)), y_test)"
   ]
  },
  {
   "cell_type": "code",
   "execution_count": null,
   "metadata": {},
   "outputs": [],
   "source": []
  }
 ],
 "metadata": {
  "kernelspec": {
   "display_name": "Python 3",
   "language": "python",
   "name": "python3"
  },
  "language_info": {
   "codemirror_mode": {
    "name": "ipython",
    "version": 3
   },
   "file_extension": ".py",
   "mimetype": "text/x-python",
   "name": "python",
   "nbconvert_exporter": "python",
   "pygments_lexer": "ipython3",
   "version": "3.7.7"
  }
 },
 "nbformat": 4,
 "nbformat_minor": 4
}
